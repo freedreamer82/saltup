{
 "cells": [
  {
   "cell_type": "markdown",
   "id": "ba074ee4",
   "metadata": {},
   "source": [
    "# Import necessary libraries"
   ]
  },
  {
   "cell_type": "code",
   "execution_count": null,
   "id": "02c2fb99",
   "metadata": {},
   "outputs": [],
   "source": [
    "from saltup.ai.classification.datagenerator import ClassificationDataloader, keras_ClassificationDataGenerator, pytorch_ClassificationDataGenerator\n",
    "from saltup.ai.base_dataformat.base_datagen import *\n",
    "from saltup.ai.object_detection.utils.metrics import Metric\n",
    "from saltup.ai.training.callbacks import BaseCallback, CallbackContext\n",
    "from saltup.ai.training.app_callbacks import ClassificationEvaluationsCallback\n",
    "from saltup.ai.nn_model import NeuralNetworkModel\n",
    "from saltup.ai.classification.evaluate import evaluate_model\n",
    "from saltup.utils.jupyter_notebook import generate_notebook_id, save_current_notebook\n",
    "from saltup.ai.training.train import training\n",
    "from saltup.utils.data.image.image_utils import Image, ColorMode\n",
    "\n",
    "\n",
    "import os\n",
    "import zipfile\n",
    "import numpy as np\n",
    "from glob import glob\n",
    "from datetime import datetime\n",
    "import tensorflow as tf"
   ]
  },
  {
   "cell_type": "code",
   "execution_count": null,
   "id": "bf57ab22",
   "metadata": {},
   "outputs": [],
   "source": [
    "!wget --no-check-certificate https://storage.googleapis.com/mledu-datasets/cats_and_dogs_filtered.zip -O cats_and_dogs.zip\n",
    "\n",
    "\n",
    "# Unzip the file using Python\n",
    "with zipfile.ZipFile(\"cats_and_dogs.zip\", \"r\") as zip_ref:\n",
    "    extract_dir = \"dataset\"\n",
    "    if not os.path.exists(extract_dir):\n",
    "        os.makedirs(extract_dir)\n",
    "    zip_ref.extractall(extract_dir)\n",
    "    \n",
    "    os.remove(\"cats_and_dogs.zip\")"
   ]
  },
  {
   "cell_type": "markdown",
   "id": "a9512bae",
   "metadata": {},
   "source": [
    "# Define constants"
   ]
  },
  {
   "cell_type": "code",
   "execution_count": null,
   "id": "174636d5",
   "metadata": {},
   "outputs": [],
   "source": [
    "NUM_CLASSES = 2\n",
    "BATCH_SIZE = 32\n",
    "EPOCHS = 3\n",
    "EPOCH_CALLBACK_EVERY = 3\n",
    "INPUT_SIZE = (128, 128)\n",
    "TRAIN_DATA_DIR = './dataset/cats_and_dogs_filtered/train'\n",
    "TEST_DATA_DIR = './dataset/cats_and_dogs_filtered/validation'\n",
    "CLASS_NAMES = ['cats', 'dogs']\n",
    "CLASS_DICTIONARY = {'cats': 0, 'dogs': 1}"
   ]
  },
  {
   "cell_type": "markdown",
   "id": "c935964a",
   "metadata": {},
   "source": [
    "# Load a pre-trained model or define your own architecture"
   ]
  },
  {
   "cell_type": "code",
   "execution_count": null,
   "id": "cc8ba91b",
   "metadata": {},
   "outputs": [],
   "source": [
    "import tensorflow as tf\n",
    "\n",
    "def build_model(input_shape=(128, 128, 3), num_classes=2):\n",
    "    inputs = tf.keras.Input(shape=input_shape)\n",
    "    x = tf.keras.layers.Conv2D(8, (3, 3), activation='relu')(inputs)\n",
    "    x = tf.keras.layers.MaxPooling2D()(x)\n",
    "    x = tf.keras.layers.Conv2D(16, (3, 3), activation='relu')(x)\n",
    "    x = tf.keras.layers.MaxPooling2D()(x)\n",
    "    x = tf.keras.layers.Flatten()(x)\n",
    "    x = tf.keras.layers.Dense(64, activation='relu')(x)\n",
    "    outputs = tf.keras.layers.Dense(num_classes, activation='softmax')(x)\n",
    "    model = tf.keras.Model(inputs, outputs)\n",
    "    return model\n",
    "\n",
    "model = build_model(input_shape=(128, 128, 3), num_classes=NUM_CLASSES)\n"
   ]
  },
  {
   "cell_type": "markdown",
   "id": "c01c0eb6",
   "metadata": {},
   "source": [
    "# Data generator"
   ]
  },
  {
   "cell_type": "code",
   "execution_count": null,
   "id": "f2c92277",
   "metadata": {},
   "outputs": [],
   "source": [
    "def preprocess(image:np.ndarray, target_size:tuple) -> np.ndarray:\n",
    "    \"\"\"Preprocess the image by resizing and normalizing.\"\"\"\n",
    "    temp_image = Image(image)\n",
    "    temp_image = temp_image.resize(target_size)\n",
    "    img = temp_image.get_data()\n",
    "    img = img / 255.0  # Normalize pixel values between [0, 1]\n",
    "    return img"
   ]
  },
  {
   "cell_type": "code",
   "execution_count": null,
   "id": "978336e7",
   "metadata": {},
   "outputs": [],
   "source": [
    "transformed_img = A.Compose([\n",
    "        A.HorizontalFlip(p=0.5),\n",
    "        A.RandomBrightnessContrast(p=0.2),\n",
    "        A.GaussianBlur(blur_limit=(3, 7), p=0.5)\n",
    "   ])"
   ]
  },
  {
   "cell_type": "code",
   "execution_count": null,
   "id": "90974b79",
   "metadata": {},
   "outputs": [],
   "source": [
    "train_dataloader = ClassificationDataloader(\n",
    "    source=TRAIN_DATA_DIR,\n",
    "    classes_dict=CLASS_DICTIONARY,\n",
    "    img_size=(224, 224, 3)\n",
    ")\n",
    "\n",
    "test_dataloader = ClassificationDataloader(\n",
    "    source=TEST_DATA_DIR,\n",
    "    classes_dict=CLASS_DICTIONARY,\n",
    "    img_size=(224, 224, 3)\n",
    ")"
   ]
  },
  {
   "cell_type": "code",
   "execution_count": null,
   "id": "8d74cc16",
   "metadata": {},
   "outputs": [],
   "source": [
    "\n",
    "# Create Classification Data Generator\n",
    "train_gen = keras_ClassificationDataGenerator(\n",
    "    dataloader=train_dataloader,\n",
    "    target_size=INPUT_SIZE,\n",
    "    num_classes=NUM_CLASSES,\n",
    "    batch_size=BATCH_SIZE,\n",
    "    preprocess=preprocess,\n",
    "    transform=transformed_img\n",
    ")\n",
    "\n",
    "\n",
    "test_gen = keras_ClassificationDataGenerator(\n",
    "    dataloader=test_dataloader,\n",
    "    target_size=INPUT_SIZE,\n",
    "    num_classes=NUM_CLASSES,\n",
    "    batch_size=BATCH_SIZE,\n",
    "    preprocess=preprocess,\n",
    "    transform=None  # no augmentation\n",
    ")\n",
    "\n",
    "images, labels = next(iter(train_gen))\n",
    "print(images.shape)\n",
    "print(labels.shape)"
   ]
  },
  {
   "cell_type": "code",
   "execution_count": null,
   "id": "594bfb83",
   "metadata": {},
   "outputs": [],
   "source": [
    "example_image = train_gen[0][0][9]\n",
    "example_label = train_gen[0][1][9]\n",
    "print(f\"Example image shape: {len(train_gen)}\")\n",
    "#plot image\n",
    "import matplotlib.pyplot as plt\n",
    "def plot_image(image, label):\n",
    "    plt.imshow(image.squeeze())\n",
    "    plt.title(f\"Label: {label}\")\n",
    "    #plt.axis('off')\n",
    "    plt.show()\n",
    "   \n",
    "print(np.max(example_image))\n",
    "plot_image(example_image, example_label)"
   ]
  },
  {
   "cell_type": "markdown",
   "id": "cc3bc1de",
   "metadata": {},
   "source": [
    "# Training"
   ]
  },
  {
   "cell_type": "code",
   "execution_count": null,
   "id": "f700a270",
   "metadata": {},
   "outputs": [],
   "source": [
    "todaytime = datetime.now()\n",
    "output_dir = \"./training_outputs\"\n",
    "current_tests_folder_name = \"train_{}\".format(todaytime.strftime(\"%d-%m-%Y_%H-%M-%S\"))\n",
    "current_output_dir = os.path.join(output_dir, current_tests_folder_name)\n",
    "if not os.path.exists(current_output_dir):\n",
    "    os.makedirs(current_output_dir)\n",
    "\n",
    "initial_learning_rate = 0.001\n",
    "decay_steps = 1000\n",
    "keras_optimizer =  tf.keras.optimizers.Adam(\n",
    "        learning_rate=tf.keras.optimizers.schedules.CosineDecay(initial_learning_rate, decay_steps))\n",
    "keras_loss = tf.keras.losses.CategoricalCrossentropy()\n",
    "\n",
    "\n",
    "\n",
    "custom_cb = ClassificationEvaluationsCallback(\n",
    "    datagen=test_gen,\n",
    "    end_of_train_datagen=test_gen,\n",
    "    every_epoch=EPOCH_CALLBACK_EVERY,\n",
    "    output_file=os.path.join(current_output_dir, \"classification_evaluations.txt\"),\n",
    "    class_names=CLASS_NAMES\n",
    "\n",
    ")\n",
    "\n",
    "kfold_parameters = {'enable':True, 'split':[0.2, 0.2, 0.2, 0.2, 0.2]}\n",
    "model_output_name = \"tiny_model\"\n",
    "\n",
    "results_dict = training(\n",
    "        train_gen,\n",
    "        model=model,\n",
    "        loss_function=keras_loss,\n",
    "        optimizer=keras_optimizer,\n",
    "        epochs=EPOCHS,\n",
    "        output_dir=current_output_dir,\n",
    "        validation_split=[0.2, 0.8],\n",
    "        kfold_param =kfold_parameters,\n",
    "        model_output_name = model_output_name,\n",
    "        training_callback=[custom_cb])"
   ]
  },
  {
   "cell_type": "markdown",
   "id": "6a377ae9",
   "metadata": {},
   "source": [
    "# Inference on test dataset"
   ]
  },
  {
   "cell_type": "code",
   "execution_count": null,
   "id": "daf618b4",
   "metadata": {},
   "outputs": [],
   "source": [
    "model_path = [res for res in results_dict['models_paths'] if res.endswith('.keras')][0]\n",
    "\n",
    "global_metric, metric_per_class = evaluate_model(\n",
    "    model_path, \n",
    "    test_gen=test_gen,\n",
    "    output_dir=current_output_dir,\n",
    "    conf_matrix=True\n",
    ")\n",
    "print(\"Global metrics:\")\n",
    "print(\"FP:\", global_metric.getFP())\n",
    "print(\"FN:\", global_metric.getFN())\n",
    "print(\"Accuracy:\", f\"{global_metric.getAccuracy():.4f}\")\n",
    "\n",
    "print(\"\\nPer-class metrics:\")\n",
    "for idx, class_name in enumerate(CLASS_NAMES):\n",
    "    print(f\"Class: {class_name}\")\n",
    "    print(\"  FP:\", metric_per_class[idx].getFP())\n",
    "    print(\"  FN:\", metric_per_class[idx].getFN())\n",
    "    print(\"  Accuracy:\", f\"{metric_per_class[idx].getAccuracy():.4f}\")"
   ]
  },
  {
   "cell_type": "code",
   "execution_count": null,
   "id": "3bc4976b",
   "metadata": {},
   "outputs": [],
   "source": [
    "from saltup.ai.utils.keras.quantization import quantize\n",
    "model_path = [res for res in results_dict['models_paths'] if res.endswith('.keras')][0]\n",
    "quantized_model_path = os.path.join(current_output_dir, \"golden_model_folder\", \"quantize\", \"golden_model_quantized.tflite\")\n",
    "\n",
    "def representative_data_gen_fnct(datagenerator):\n",
    "    for i in range(len(datagenerator)):\n",
    "        images, _ = datagenerator[i]\n",
    "        # If batch, yield each image separately for calibration\n",
    "        if images.ndim == 4:\n",
    "            for img in images:\n",
    "                yield [img.astype(np.float32).reshape(1, *img.shape)]\n",
    "        else:\n",
    "            yield [images.astype(np.float32).reshape(1, *images.shape)]\n",
    "\n",
    "# Pass the generator function itself, not its call\n",
    "representative_data_gen = lambda: representative_data_gen_fnct(train_gen)\n",
    "        \n",
    "\n",
    "quantized_model_path = quantize(model_path, quantized_model_path, \n",
    "                           representative_data_gen, \n",
    "                           input_type = tf.uint8, \n",
    "                           output_type = tf.uint8)\n",
    "\n",
    "global_metric, metric_per_class = evaluate_model(\n",
    "    quantized_model_path, \n",
    "    test_gen=test_gen,\n",
    "    output_dir=current_output_dir,\n",
    "    conf_matrix=True\n",
    ")\n",
    "print(\"Global metrics:\")\n",
    "print(\"FP:\", global_metric.getFP())\n",
    "print(\"FN:\", global_metric.getFN())\n",
    "print(\"Accuracy:\", f\"{global_metric.getAccuracy():.4f}\")\n",
    "\n",
    "print(\"\\nPer-class metrics:\")\n",
    "for idx, class_name in enumerate(CLASS_NAMES):\n",
    "    print(f\"Class: {class_name}\")\n",
    "    print(\"  FP:\", metric_per_class[idx].getFP())\n",
    "    print(\"  FN:\", metric_per_class[idx].getFN())\n",
    "    print(\"  Accuracy:\", f\"{metric_per_class[idx].getAccuracy():.4f}\")"
   ]
  },
  {
   "cell_type": "code",
   "execution_count": null,
   "id": "96721a6a",
   "metadata": {},
   "outputs": [],
   "source": [
    "# Save the current notebook with the results. This is done at the end to ensure all outputs are captured.\n",
    "save_current_notebook(current_output_dir)"
   ]
  }
 ],
 "metadata": {
  "kernelspec": {
   "display_name": "test_saltup",
   "language": "python",
   "name": "python3"
  },
  "language_info": {
   "codemirror_mode": {
    "name": "ipython",
    "version": 3
   },
   "file_extension": ".py",
   "mimetype": "text/x-python",
   "name": "python",
   "nbconvert_exporter": "python",
   "pygments_lexer": "ipython3",
   "version": "3.12.0"
  }
 },
 "nbformat": 4,
 "nbformat_minor": 5
}
